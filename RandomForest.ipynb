{
  "nbformat": 4,
  "nbformat_minor": 0,
  "metadata": {
    "colab": {
      "provenance": [],
      "authorship_tag": "ABX9TyMAV63dgx5HrxOIHvrjWc87",
      "include_colab_link": true
    },
    "kernelspec": {
      "name": "python3",
      "display_name": "Python 3"
    },
    "language_info": {
      "name": "python"
    }
  },
  "cells": [
    {
      "cell_type": "markdown",
      "metadata": {
        "id": "view-in-github",
        "colab_type": "text"
      },
      "source": [
        "<a href=\"https://colab.research.google.com/github/Freperush/Apps-web/blob/master/RandomForest.ipynb\" target=\"_parent\"><img src=\"https://colab.research.google.com/assets/colab-badge.svg\" alt=\"Open In Colab\"/></a>"
      ]
    },
    {
      "cell_type": "code",
      "source": [
        "! pip install -q kaggle\n",
        "from google.colab import files\n",
        "\n",
        "files.upload()\n",
        "!mkdir ~/.kaggle\n",
        "! cp kaggle.json ~/.kaggle/\n",
        "! chmod 600 ~/.kaggle/kaggle.json\n",
        "! kaggle datasets list\n",
        "! kaggle datasets download -d dansbecker/food-101\n",
        "! pip show kaggle\n",
        "! mkdir train\n",
        "! unzip /content/food-101.zip -d train"
      ],
      "metadata": {
        "id": "ktoPO0fQeYcI"
      },
      "execution_count": null,
      "outputs": []
    },
    {
      "cell_type": "code",
      "source": [],
      "metadata": {
        "id": "mFmK6GPBeYZe"
      },
      "execution_count": null,
      "outputs": []
    },
    {
      "cell_type": "code",
      "source": [
        "import os\n",
        "import numpy as np\n",
        "from skimage.io import imread\n",
        "from skimage.transform import resize\n",
        "from sklearn.cluster import KMeans\n",
        "from sklearn.metrics import accuracy_score\n",
        "from tqdm import tqdm\n",
        "import tracemalloc\n",
        "\n",
        "# Iniciar el rastreo del consumo de memoria\n",
        "tracemalloc.start()\n",
        "\n",
        "dataset_dir = '/content/train/food-101/food-101/images'\n",
        "clases = os.listdir(dataset_dir)\n",
        "num_categorias = len(clases)\n",
        "batch_size = 100\n",
        "train_ratio = 0.8\n",
        "\n",
        "caracteristicas = []\n",
        "etiquetas = []\n",
        "\n",
        "# Recorrer cada clase del dataset\n",
        "for i, clase in enumerate(clases):\n",
        "    #print(\"Procesando categoría\", i+1, \"de\", num_categorias)\n",
        "    # Ruta a las imágenes de la clase actual\n",
        "    clase_dir = os.path.join(dataset_dir, clase)\n",
        "\n",
        "    # Verificar si es un directorio\n",
        "    if not os.path.isdir(clase_dir):\n",
        "        continue\n",
        "\n",
        "    # Recorrer cada imagen de la clase\n",
        "    imagen_nombres = os.listdir(clase_dir)\n",
        "    num_imagenes = len(imagen_nombres)\n",
        "    num_imagenes = min(num_imagenes, 100)  # Limitar a 100 imágenes por categoría\n",
        "    # Contador de imágenes procesadas\n",
        "    imagenes_procesadas = 0\n",
        "\n",
        "    # Procesar las imágenes por lotes\n",
        "    for batch_start in range(0, num_imagenes, batch_size):\n",
        "        batch_end = min(batch_start + batch_size, num_imagenes)\n",
        "        batch_imagenes = imagen_nombres[batch_start:batch_end]\n",
        "\n",
        "\n",
        "        for imagen_nombre in batch_imagenes:\n",
        "            # Ruta completa de la imagen\n",
        "            imagen_ruta = os.path.join(clase_dir, imagen_nombre)\n",
        "\n",
        "            # Leer la imagen y redimensionarla a un tamaño adecuado\n",
        "            imagen = imread(imagen_ruta)\n",
        "            imagen = resize(imagen, (224, 224))\n",
        "\n",
        "            # Convertir la imagen en un vector de características\n",
        "            caracteristica = imagen.flatten()\n",
        "            caracteristicas.append(caracteristica)\n",
        "\n",
        "            # Agregar la etiqueta correspondiente\n",
        "            etiquetas.append(i)\n",
        "\n",
        "            # Incrementar el contador de imágenes procesadas\n",
        "            imagenes_procesadas += 1\n",
        "\n",
        "            # Imprimir el progreso\n",
        "            #print(\"Procesando imagen\", imagenes_procesadas, \"de\", num_imagenes, \"de la categoría\", i+1, \"- Imágenes restantes:\", num_imagenes - imagenes_procesadas)\n",
        "\n",
        "# Detener el rastreo del consumo de memoria\n",
        "snapshot = tracemalloc.take_snapshot()\n",
        "top_stats = snapshot.statistics('lineno')\n",
        "\n",
        "# Imprimir las estadísticas del consumo de memoria\n",
        "print(\"[ Top 10 ]\")\n",
        "for stat in top_stats[:10]:\n",
        "    print(stat)\n",
        "\n",
        "# Convertir las listas en arrays numpy\n",
        "caracteristicas = np.array(caracteristicas)\n",
        "etiquetas = np.array(etiquetas)\n",
        "# print(caracteristicas)\n",
        "# print(etiquetas)\n"
      ],
      "metadata": {
        "colab": {
          "base_uri": "https://localhost:8080/",
          "height": 493
        },
        "id": "Q7_eJ0qbeYWz",
        "outputId": "54a598ed-60fc-4387-cca0-e1d1aadd6539"
      },
      "execution_count": 30,
      "outputs": [
        {
          "output_type": "error",
          "ename": "KeyboardInterrupt",
          "evalue": "ignored",
          "traceback": [
            "\u001b[0;31m---------------------------------------------------------------------------\u001b[0m",
            "\u001b[0;31mKeyboardInterrupt\u001b[0m                         Traceback (most recent call last)",
            "\u001b[0;32m<ipython-input-30-b6699b046cae>\u001b[0m in \u001b[0;36m<cell line: 23>\u001b[0;34m()\u001b[0m\n\u001b[1;32m     49\u001b[0m             \u001b[0;31m# Leer la imagen y redimensionarla a un tamaño adecuado\u001b[0m\u001b[0;34m\u001b[0m\u001b[0;34m\u001b[0m\u001b[0m\n\u001b[1;32m     50\u001b[0m             \u001b[0mimagen\u001b[0m \u001b[0;34m=\u001b[0m \u001b[0mimread\u001b[0m\u001b[0;34m(\u001b[0m\u001b[0mimagen_ruta\u001b[0m\u001b[0;34m)\u001b[0m\u001b[0;34m\u001b[0m\u001b[0;34m\u001b[0m\u001b[0m\n\u001b[0;32m---> 51\u001b[0;31m             \u001b[0mimagen\u001b[0m \u001b[0;34m=\u001b[0m \u001b[0mresize\u001b[0m\u001b[0;34m(\u001b[0m\u001b[0mimagen\u001b[0m\u001b[0;34m,\u001b[0m \u001b[0;34m(\u001b[0m\u001b[0;36m224\u001b[0m\u001b[0;34m,\u001b[0m \u001b[0;36m224\u001b[0m\u001b[0;34m)\u001b[0m\u001b[0;34m)\u001b[0m\u001b[0;34m\u001b[0m\u001b[0;34m\u001b[0m\u001b[0m\n\u001b[0m\u001b[1;32m     52\u001b[0m \u001b[0;34m\u001b[0m\u001b[0m\n\u001b[1;32m     53\u001b[0m             \u001b[0;31m# Convertir la imagen en un vector de características\u001b[0m\u001b[0;34m\u001b[0m\u001b[0;34m\u001b[0m\u001b[0m\n",
            "\u001b[0;32m/usr/local/lib/python3.10/dist-packages/skimage/transform/_warps.py\u001b[0m in \u001b[0;36mresize\u001b[0;34m(image, output_shape, order, mode, cval, clip, preserve_range, anti_aliasing, anti_aliasing_sigma)\u001b[0m\n\u001b[1;32m    179\u001b[0m                 warn(\"Anti-aliasing standard deviation greater than zero but \"\n\u001b[1;32m    180\u001b[0m                      \"not down-sampling along all axes\")\n\u001b[0;32m--> 181\u001b[0;31m         image = ndi.gaussian_filter(image, anti_aliasing_sigma,\n\u001b[0m\u001b[1;32m    182\u001b[0m                                     cval=cval, mode=ndi_mode)\n\u001b[1;32m    183\u001b[0m \u001b[0;34m\u001b[0m\u001b[0m\n",
            "\u001b[0;32m/usr/local/lib/python3.10/dist-packages/scipy/ndimage/_filters.py\u001b[0m in \u001b[0;36mgaussian_filter\u001b[0;34m(input, sigma, order, output, mode, cval, truncate, radius)\u001b[0m\n\u001b[1;32m    366\u001b[0m     \u001b[0;32mif\u001b[0m \u001b[0mlen\u001b[0m\u001b[0;34m(\u001b[0m\u001b[0maxes\u001b[0m\u001b[0;34m)\u001b[0m \u001b[0;34m>\u001b[0m \u001b[0;36m0\u001b[0m\u001b[0;34m:\u001b[0m\u001b[0;34m\u001b[0m\u001b[0;34m\u001b[0m\u001b[0m\n\u001b[1;32m    367\u001b[0m         \u001b[0;32mfor\u001b[0m \u001b[0maxis\u001b[0m\u001b[0;34m,\u001b[0m \u001b[0msigma\u001b[0m\u001b[0;34m,\u001b[0m \u001b[0morder\u001b[0m\u001b[0;34m,\u001b[0m \u001b[0mmode\u001b[0m\u001b[0;34m,\u001b[0m \u001b[0mradius\u001b[0m \u001b[0;32min\u001b[0m \u001b[0maxes\u001b[0m\u001b[0;34m:\u001b[0m\u001b[0;34m\u001b[0m\u001b[0;34m\u001b[0m\u001b[0m\n\u001b[0;32m--> 368\u001b[0;31m             gaussian_filter1d(input, sigma, axis, order, output,\n\u001b[0m\u001b[1;32m    369\u001b[0m                               mode, cval, truncate, radius=radius)\n\u001b[1;32m    370\u001b[0m             \u001b[0minput\u001b[0m \u001b[0;34m=\u001b[0m \u001b[0moutput\u001b[0m\u001b[0;34m\u001b[0m\u001b[0;34m\u001b[0m\u001b[0m\n",
            "\u001b[0;32m/usr/local/lib/python3.10/dist-packages/scipy/ndimage/_filters.py\u001b[0m in \u001b[0;36mgaussian_filter1d\u001b[0;34m(input, sigma, axis, order, output, mode, cval, truncate, radius)\u001b[0m\n\u001b[1;32m    274\u001b[0m     \u001b[0;31m# Since we are calling correlate, not convolve, revert the kernel\u001b[0m\u001b[0;34m\u001b[0m\u001b[0;34m\u001b[0m\u001b[0m\n\u001b[1;32m    275\u001b[0m     \u001b[0mweights\u001b[0m \u001b[0;34m=\u001b[0m \u001b[0m_gaussian_kernel1d\u001b[0m\u001b[0;34m(\u001b[0m\u001b[0msigma\u001b[0m\u001b[0;34m,\u001b[0m \u001b[0morder\u001b[0m\u001b[0;34m,\u001b[0m \u001b[0mlw\u001b[0m\u001b[0;34m)\u001b[0m\u001b[0;34m[\u001b[0m\u001b[0;34m:\u001b[0m\u001b[0;34m:\u001b[0m\u001b[0;34m-\u001b[0m\u001b[0;36m1\u001b[0m\u001b[0;34m]\u001b[0m\u001b[0;34m\u001b[0m\u001b[0;34m\u001b[0m\u001b[0m\n\u001b[0;32m--> 276\u001b[0;31m     \u001b[0;32mreturn\u001b[0m \u001b[0mcorrelate1d\u001b[0m\u001b[0;34m(\u001b[0m\u001b[0minput\u001b[0m\u001b[0;34m,\u001b[0m \u001b[0mweights\u001b[0m\u001b[0;34m,\u001b[0m \u001b[0maxis\u001b[0m\u001b[0;34m,\u001b[0m \u001b[0moutput\u001b[0m\u001b[0;34m,\u001b[0m \u001b[0mmode\u001b[0m\u001b[0;34m,\u001b[0m \u001b[0mcval\u001b[0m\u001b[0;34m,\u001b[0m \u001b[0;36m0\u001b[0m\u001b[0;34m)\u001b[0m\u001b[0;34m\u001b[0m\u001b[0;34m\u001b[0m\u001b[0m\n\u001b[0m\u001b[1;32m    277\u001b[0m \u001b[0;34m\u001b[0m\u001b[0m\n\u001b[1;32m    278\u001b[0m \u001b[0;34m\u001b[0m\u001b[0m\n",
            "\u001b[0;32m/usr/local/lib/python3.10/dist-packages/scipy/ndimage/_filters.py\u001b[0m in \u001b[0;36mcorrelate1d\u001b[0;34m(input, weights, axis, output, mode, cval, origin)\u001b[0m\n\u001b[1;32m    132\u001b[0m                          '(len(weights)-1) // 2')\n\u001b[1;32m    133\u001b[0m     \u001b[0mmode\u001b[0m \u001b[0;34m=\u001b[0m \u001b[0m_ni_support\u001b[0m\u001b[0;34m.\u001b[0m\u001b[0m_extend_mode_to_code\u001b[0m\u001b[0;34m(\u001b[0m\u001b[0mmode\u001b[0m\u001b[0;34m)\u001b[0m\u001b[0;34m\u001b[0m\u001b[0;34m\u001b[0m\u001b[0m\n\u001b[0;32m--> 134\u001b[0;31m     _nd_image.correlate1d(input, weights, axis, output, mode, cval,\n\u001b[0m\u001b[1;32m    135\u001b[0m                           origin)\n\u001b[1;32m    136\u001b[0m     \u001b[0;32mreturn\u001b[0m \u001b[0moutput\u001b[0m\u001b[0;34m\u001b[0m\u001b[0;34m\u001b[0m\u001b[0m\n",
            "\u001b[0;31mKeyboardInterrupt\u001b[0m: "
          ]
        }
      ]
    },
    {
      "cell_type": "code",
      "source": [
        "del caracteristicas"
      ],
      "metadata": {
        "id": "X31blJJqtvtr"
      },
      "execution_count": 36,
      "outputs": []
    },
    {
      "cell_type": "code",
      "source": [
        "%whos\n"
      ],
      "metadata": {
        "colab": {
          "base_uri": "https://localhost:8080/"
        },
        "id": "XHGFkrDJeYKC",
        "outputId": "92e52824-8823-452d-dd4a-b22dd87bbf56"
      },
      "execution_count": 37,
      "outputs": [
        {
          "output_type": "stream",
          "name": "stdout",
          "text": [
            "Variable              Type         Data/Info\n",
            "--------------------------------------------\n",
            "accuracy_score        function     <function accuracy_score at 0x7fe25f8edea0>\n",
            "batch_end             int          100\n",
            "batch_imagenes        list         n=100\n",
            "batch_size            int          100\n",
            "batch_start           int          0\n",
            "clase                 str          shrimp_and_grits\n",
            "clase_dir             str          /content/train/food-101/f<...>1/images/shrimp_and_grits\n",
            "clases                list         n=102\n",
            "dataset_dir           str          /content/train/food-101/food-101/images\n",
            "etiquetas             list         n=6443\n",
            "files                 module       <module 'google.colab.fil<...>s/google/colab/files.py'>\n",
            "i                     int          65\n",
            "imagen                ndarray      512x512x3: 786432 elems, type `uint8`, 786432 bytes (768.0 kb)\n",
            "imagen_nombre         str          2331485.jpg\n",
            "imagen_nombres        list         n=1000\n",
            "imagen_ruta           str          /content/train/food-101/f<...>imp_and_grits/2331485.jpg\n",
            "imagenes_procesadas   int          43\n",
            "imread                function     <function imread at 0x7fe261ccab90>\n",
            "memory_info           svmem        svmem(total=13613326336, <...>=3215360, slab=658567168)\n",
            "mi_funcion            function     <function mi_funcion at 0x7fe25ddb6320>\n",
            "np                    module       <module 'numpy' from '/us<...>kages/numpy/__init__.py'>\n",
            "num_categorias        int          102\n",
            "num_imagenes          int          100\n",
            "objgraph              module       <module 'objgraph' from '<...>st-packages/objgraph.py'>\n",
            "os                    module       <module 'os' from '/usr/lib/python3.10/os.py'>\n",
            "process               Process      psutil.Process(pid=11750,<...>ted', started='15:48:33')\n",
            "processes             generator    <generator object process_iter at 0x7fe25def6110>\n",
            "profile               function     <function profile at 0x7fe25ddb60e0>\n",
            "psutil                module       <module 'psutil' from '/u<...>ages/psutil/__init__.py'>\n",
            "resize                function     <function resize at 0x7fe260a80d30>\n",
            "size                  int          816056\n",
            "snapshot              Snapshot     <tracemalloc.Snapshot object at 0x7fe25e5c7850>\n",
            "stat                  Statistic    /usr/local/lib/python3.10<...>, count=361, average=54 B\n",
            "sys                   module       <module 'sys' (built-in)>\n",
            "top_stats             list         n=278\n",
            "tqdm                  type         <class 'tqdm.std.tqdm'>\n",
            "tracemalloc           module       <module 'tracemalloc' fro<...>thon3.10/tracemalloc.py'>\n",
            "train_ratio           float        0.8\n",
            "variable              str          x\n",
            "variables             list         n=77\n",
            "x                     list         n=102000\n"
          ]
        }
      ]
    },
    {
      "cell_type": "code",
      "source": [
        "%whos\n"
      ],
      "metadata": {
        "id": "ZMNHlMsqeXX7"
      },
      "execution_count": null,
      "outputs": []
    },
    {
      "cell_type": "code",
      "source": [
        "import sys\n",
        "\n",
        "# Obtener el tamaño de todas las variables definidas en el entorno actual\n",
        "variables = dir()\n",
        "for variable in variables:\n",
        "    if not variable.startswith('_'):  # Ignorar variables internas\n",
        "        size = sys.getsizeof(eval(variable))\n",
        "        print(f\"Tamaño de {variable}: {size} bytes\")\n"
      ],
      "metadata": {
        "colab": {
          "base_uri": "https://localhost:8080/"
        },
        "id": "5opCI2wVkEXY",
        "outputId": "3e2a06ab-dca1-4033-e5f6-e453576c0186"
      },
      "execution_count": 39,
      "outputs": [
        {
          "output_type": "stream",
          "name": "stdout",
          "text": [
            "Tamaño de In: 376 bytes\n",
            "Tamaño de Out: 232 bytes\n",
            "Tamaño de accuracy_score: 144 bytes\n",
            "Tamaño de batch_end: 28 bytes\n",
            "Tamaño de batch_imagenes: 856 bytes\n",
            "Tamaño de batch_size: 28 bytes\n",
            "Tamaño de batch_start: 24 bytes\n",
            "Tamaño de clase: 65 bytes\n",
            "Tamaño de clase_dir: 105 bytes\n",
            "Tamaño de clases: 920 bytes\n",
            "Tamaño de dataset_dir: 88 bytes\n",
            "Tamaño de etiquetas: 53080 bytes\n",
            "Tamaño de exit: 48 bytes\n",
            "Tamaño de files: 72 bytes\n",
            "Tamaño de get_ipython: 64 bytes\n",
            "Tamaño de i: 28 bytes\n",
            "Tamaño de imagen: 144 bytes\n",
            "Tamaño de imagen_nombre: 60 bytes\n",
            "Tamaño de imagen_nombres: 8856 bytes\n",
            "Tamaño de imagen_ruta: 117 bytes\n",
            "Tamaño de imagenes_procesadas: 28 bytes\n",
            "Tamaño de imread: 144 bytes\n",
            "Tamaño de memory_info: 128 bytes\n",
            "Tamaño de mi_funcion: 144 bytes\n",
            "Tamaño de np: 72 bytes\n",
            "Tamaño de num_categorias: 28 bytes\n",
            "Tamaño de num_imagenes: 28 bytes\n",
            "Tamaño de objgraph: 72 bytes\n",
            "Tamaño de os: 72 bytes\n",
            "Tamaño de process: 48 bytes\n",
            "Tamaño de processes: 104 bytes\n",
            "Tamaño de profile: 144 bytes\n",
            "Tamaño de psutil: 72 bytes\n",
            "Tamaño de quit: 48 bytes\n",
            "Tamaño de resize: 144 bytes\n",
            "Tamaño de size: 28 bytes\n",
            "Tamaño de snapshot: 48 bytes\n",
            "Tamaño de stat: 56 bytes\n",
            "Tamaño de sys: 72 bytes\n",
            "Tamaño de top_stats: 2280 bytes\n",
            "Tamaño de tqdm: 1072 bytes\n",
            "Tamaño de tracemalloc: 72 bytes\n",
            "Tamaño de train_ratio: 24 bytes\n",
            "Tamaño de variable: 57 bytes\n",
            "Tamaño de variables: 904 bytes\n",
            "Tamaño de x: 816056 bytes\n"
          ]
        }
      ]
    },
    {
      "cell_type": "code",
      "source": [
        "!pip install psutil\n",
        "import psutil\n",
        "\n",
        "# Obtener información sobre el uso de la memoria\n",
        "memory_info = psutil.virtual_memory()\n",
        "\n",
        "# Imprimir la información\n",
        "print(f\"Uso de memoria RAM: {memory_info.used / 1024 / 1024:.2f} MB\")\n"
      ],
      "metadata": {
        "colab": {
          "base_uri": "https://localhost:8080/"
        },
        "id": "pXXHbePvoIol",
        "outputId": "515a331a-1ec7-46c9-802b-a42903f1d1f1"
      },
      "execution_count": 43,
      "outputs": [
        {
          "output_type": "stream",
          "name": "stdout",
          "text": [
            "Looking in indexes: https://pypi.org/simple, https://us-python.pkg.dev/colab-wheels/public/simple/\n",
            "Requirement already satisfied: psutil in /usr/local/lib/python3.10/dist-packages (5.9.5)\n",
            "Uso de memoria RAM: 8399.12 MB\n"
          ]
        }
      ]
    },
    {
      "cell_type": "code",
      "source": [
        "import psutil\n",
        "\n",
        "# Obtener la lista de procesos y su uso de memoria\n",
        "processes = psutil.process_iter(['pid', 'name', 'memory_info'])\n",
        "\n",
        "# Imprimir información de cada proceso\n",
        "for process in processes:\n",
        "    print(f\"PID: {process.info['pid']}, Nombre: {process.info['name']}, Uso de memoria: {process.info['memory_info'].rss / 1024 / 1024:.2f} MB\")\n"
      ],
      "metadata": {
        "colab": {
          "base_uri": "https://localhost:8080/"
        },
        "id": "UTNCnnb_ojCN",
        "outputId": "dc6f23bb-f10e-42db-8e0e-6cc009af55e0"
      },
      "execution_count": 44,
      "outputs": [
        {
          "output_type": "stream",
          "name": "stdout",
          "text": [
            "PID: 1, Nombre: docker-init, Uso de memoria: 0.01 MB\n",
            "PID: 7, Nombre: node, Uso de memoria: 58.58 MB\n",
            "PID: 19, Nombre: tail, Uso de memoria: 0.50 MB\n",
            "PID: 30, Nombre: oom_monitor.sh, Uso de memoria: 3.15 MB\n",
            "PID: 32, Nombre: run.sh, Uso de memoria: 1.78 MB\n",
            "PID: 34, Nombre: kernel_manager_proxy, Uso de memoria: 14.00 MB\n",
            "PID: 60, Nombre: python3, Uso de memoria: 0.00 MB\n",
            "PID: 61, Nombre: colab-fileshim., Uso de memoria: 42.70 MB\n",
            "PID: 78, Nombre: jupyter-noteboo, Uso de memoria: 149.72 MB\n",
            "PID: 79, Nombre: dap_multiplexer, Uso de memoria: 9.77 MB\n",
            "PID: 287, Nombre: python3, Uso de memoria: 7784.83 MB\n",
            "PID: 318, Nombre: python3, Uso de memoria: 15.15 MB\n",
            "PID: 17376, Nombre: language_service, Uso de memoria: 14.37 MB\n",
            "PID: 17381, Nombre: node, Uso de memoria: 183.76 MB\n",
            "PID: 18031, Nombre: sleep, Uso de memoria: 0.50 MB\n"
          ]
        }
      ]
    },
    {
      "cell_type": "code",
      "source": [
        "import psutil\n",
        "\n",
        "# Obtener el PID del proceso de Python\n",
        "pid = 287  # Reemplaza con tu PID específico\n",
        "\n",
        "# Obtener información detallada sobre el proceso\n",
        "process = psutil.Process(pid)\n",
        "\n",
        "# Obtener el uso de memoria del proceso\n",
        "memory_info = process.memory_info()\n",
        "\n",
        "# Imprimir la información de uso de memoria\n",
        "print(\"Uso de memoria del proceso:\")\n",
        "print(f\"RSS (Resident Set Size): {memory_info.rss / 1024 / 1024:.2f} MB\")\n",
        "print(f\"VMS (Virtual Memory Size): {memory_info.vms / 1024 / 1024:.2f} MB\")\n"
      ],
      "metadata": {
        "colab": {
          "base_uri": "https://localhost:8080/"
        },
        "id": "QF--gk80o1Aa",
        "outputId": "d013bfcc-accc-4694-a6d5-7976d0255db6"
      },
      "execution_count": 41,
      "outputs": [
        {
          "output_type": "stream",
          "name": "stdout",
          "text": [
            "Uso de memoria del proceso:\n",
            "RSS (Resident Set Size): 7784.83 MB\n",
            "VMS (Virtual Memory Size): 9004.15 MB\n"
          ]
        }
      ]
    },
    {
      "cell_type": "code",
      "source": [
        "pmap -x 287\n"
      ],
      "metadata": {
        "colab": {
          "base_uri": "https://localhost:8080/",
          "height": 152
        },
        "id": "3y5LBLonvD5f",
        "outputId": "73a648e9-62e3-4d69-92e6-61410fe3afb8"
      },
      "execution_count": 46,
      "outputs": [
        {
          "output_type": "error",
          "ename": "SyntaxError",
          "evalue": "ignored",
          "traceback": [
            "\u001b[0;36m  File \u001b[0;32m\"<ipython-input-46-547e0f2a9479>\"\u001b[0;36m, line \u001b[0;32m1\u001b[0m\n\u001b[0;31m    pmap -x 287\u001b[0m\n\u001b[0m            ^\u001b[0m\n\u001b[0;31mSyntaxError\u001b[0m\u001b[0;31m:\u001b[0m invalid syntax\n"
          ]
        }
      ]
    }
  ]
}